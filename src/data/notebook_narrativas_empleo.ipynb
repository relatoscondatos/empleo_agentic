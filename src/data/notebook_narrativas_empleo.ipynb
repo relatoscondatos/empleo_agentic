{
 "cells": [
  {
   "cell_type": "code",
   "execution_count": 1,
   "id": "5140c155",
   "metadata": {},
   "outputs": [
    {
     "name": "stdout",
     "output_type": "stream",
     "text": [
      "Defaulting to user installation because normal site-packages is not writeable\n",
      "Requirement already satisfied: langchain in /Users/ernestolaval/Library/Python/3.9/lib/python/site-packages (0.3.14)\n",
      "Requirement already satisfied: langchain_openai in /Users/ernestolaval/Library/Python/3.9/lib/python/site-packages (0.3.0)\n",
      "Requirement already satisfied: PyYAML>=5.3 in /Users/ernestolaval/Library/Python/3.9/lib/python/site-packages (from langchain) (6.0.2)\n",
      "Requirement already satisfied: SQLAlchemy<3,>=1.4 in /Users/ernestolaval/Library/Python/3.9/lib/python/site-packages (from langchain) (2.0.37)\n",
      "Requirement already satisfied: aiohttp<4.0.0,>=3.8.3 in /Users/ernestolaval/Library/Python/3.9/lib/python/site-packages (from langchain) (3.11.11)\n",
      "Requirement already satisfied: async-timeout<5.0.0,>=4.0.0 in /Users/ernestolaval/Library/Python/3.9/lib/python/site-packages (from langchain) (4.0.3)\n",
      "Requirement already satisfied: langchain-core<0.4.0,>=0.3.29 in /Users/ernestolaval/Library/Python/3.9/lib/python/site-packages (from langchain) (0.3.30)\n",
      "Requirement already satisfied: langchain-text-splitters<0.4.0,>=0.3.3 in /Users/ernestolaval/Library/Python/3.9/lib/python/site-packages (from langchain) (0.3.5)\n",
      "Requirement already satisfied: langsmith<0.3,>=0.1.17 in /Users/ernestolaval/Library/Python/3.9/lib/python/site-packages (from langchain) (0.2.11)\n",
      "Requirement already satisfied: numpy<2,>=1.22.4 in /Users/ernestolaval/Library/Python/3.9/lib/python/site-packages (from langchain) (1.26.4)\n",
      "Requirement already satisfied: pydantic<3.0.0,>=2.7.4 in /Users/ernestolaval/Library/Python/3.9/lib/python/site-packages (from langchain) (2.8.2)\n",
      "Requirement already satisfied: requests<3,>=2 in /Users/ernestolaval/Library/Python/3.9/lib/python/site-packages (from langchain) (2.32.3)\n",
      "Requirement already satisfied: tenacity!=8.4.0,<10,>=8.1.0 in /Users/ernestolaval/Library/Python/3.9/lib/python/site-packages (from langchain) (9.0.0)\n",
      "Requirement already satisfied: openai<2.0.0,>=1.58.1 in /Users/ernestolaval/Library/Python/3.9/lib/python/site-packages (from langchain_openai) (1.59.8)\n",
      "Requirement already satisfied: tiktoken<1,>=0.7 in /Users/ernestolaval/Library/Python/3.9/lib/python/site-packages (from langchain_openai) (0.8.0)\n",
      "Requirement already satisfied: aiohappyeyeballs>=2.3.0 in /Users/ernestolaval/Library/Python/3.9/lib/python/site-packages (from aiohttp<4.0.0,>=3.8.3->langchain) (2.4.4)\n",
      "Requirement already satisfied: aiosignal>=1.1.2 in /Users/ernestolaval/Library/Python/3.9/lib/python/site-packages (from aiohttp<4.0.0,>=3.8.3->langchain) (1.3.2)\n",
      "Requirement already satisfied: attrs>=17.3.0 in /Users/ernestolaval/Library/Python/3.9/lib/python/site-packages (from aiohttp<4.0.0,>=3.8.3->langchain) (24.3.0)\n",
      "Requirement already satisfied: frozenlist>=1.1.1 in /Users/ernestolaval/Library/Python/3.9/lib/python/site-packages (from aiohttp<4.0.0,>=3.8.3->langchain) (1.5.0)\n",
      "Requirement already satisfied: multidict<7.0,>=4.5 in /Users/ernestolaval/Library/Python/3.9/lib/python/site-packages (from aiohttp<4.0.0,>=3.8.3->langchain) (6.1.0)\n",
      "Requirement already satisfied: propcache>=0.2.0 in /Users/ernestolaval/Library/Python/3.9/lib/python/site-packages (from aiohttp<4.0.0,>=3.8.3->langchain) (0.2.1)\n",
      "Requirement already satisfied: yarl<2.0,>=1.17.0 in /Users/ernestolaval/Library/Python/3.9/lib/python/site-packages (from aiohttp<4.0.0,>=3.8.3->langchain) (1.18.3)\n",
      "Requirement already satisfied: jsonpatch<2.0,>=1.33 in /Users/ernestolaval/Library/Python/3.9/lib/python/site-packages (from langchain-core<0.4.0,>=0.3.29->langchain) (1.33)\n",
      "Requirement already satisfied: packaging<25,>=23.2 in /Users/ernestolaval/Library/Python/3.9/lib/python/site-packages (from langchain-core<0.4.0,>=0.3.29->langchain) (24.1)\n",
      "Requirement already satisfied: typing-extensions>=4.7 in /Users/ernestolaval/Library/Python/3.9/lib/python/site-packages (from langchain-core<0.4.0,>=0.3.29->langchain) (4.12.2)\n",
      "Requirement already satisfied: httpx<1,>=0.23.0 in /Users/ernestolaval/Library/Python/3.9/lib/python/site-packages (from langsmith<0.3,>=0.1.17->langchain) (0.27.0)\n",
      "Requirement already satisfied: orjson<4.0.0,>=3.9.14 in /Users/ernestolaval/Library/Python/3.9/lib/python/site-packages (from langsmith<0.3,>=0.1.17->langchain) (3.10.14)\n",
      "Requirement already satisfied: requests-toolbelt<2.0.0,>=1.0.0 in /Users/ernestolaval/Library/Python/3.9/lib/python/site-packages (from langsmith<0.3,>=0.1.17->langchain) (1.0.0)\n",
      "Requirement already satisfied: anyio<5,>=3.5.0 in /Users/ernestolaval/Library/Python/3.9/lib/python/site-packages (from openai<2.0.0,>=1.58.1->langchain_openai) (4.4.0)\n",
      "Requirement already satisfied: distro<2,>=1.7.0 in /Users/ernestolaval/Library/Python/3.9/lib/python/site-packages (from openai<2.0.0,>=1.58.1->langchain_openai) (1.9.0)\n",
      "Requirement already satisfied: jiter<1,>=0.4.0 in /Users/ernestolaval/Library/Python/3.9/lib/python/site-packages (from openai<2.0.0,>=1.58.1->langchain_openai) (0.5.0)\n",
      "Requirement already satisfied: sniffio in /Users/ernestolaval/Library/Python/3.9/lib/python/site-packages (from openai<2.0.0,>=1.58.1->langchain_openai) (1.3.1)\n",
      "Requirement already satisfied: tqdm>4 in /Users/ernestolaval/Library/Python/3.9/lib/python/site-packages (from openai<2.0.0,>=1.58.1->langchain_openai) (4.66.5)\n",
      "Requirement already satisfied: annotated-types>=0.4.0 in /Users/ernestolaval/Library/Python/3.9/lib/python/site-packages (from pydantic<3.0.0,>=2.7.4->langchain) (0.7.0)\n",
      "Requirement already satisfied: pydantic-core==2.20.1 in /Users/ernestolaval/Library/Python/3.9/lib/python/site-packages (from pydantic<3.0.0,>=2.7.4->langchain) (2.20.1)\n",
      "Requirement already satisfied: charset-normalizer<4,>=2 in /Users/ernestolaval/Library/Python/3.9/lib/python/site-packages (from requests<3,>=2->langchain) (3.3.2)\n",
      "Requirement already satisfied: idna<4,>=2.5 in /Users/ernestolaval/Library/Python/3.9/lib/python/site-packages (from requests<3,>=2->langchain) (3.7)\n",
      "Requirement already satisfied: urllib3<3,>=1.21.1 in /Users/ernestolaval/Library/Python/3.9/lib/python/site-packages (from requests<3,>=2->langchain) (2.2.2)\n",
      "Requirement already satisfied: certifi>=2017.4.17 in /Users/ernestolaval/Library/Python/3.9/lib/python/site-packages (from requests<3,>=2->langchain) (2024.6.2)\n",
      "Requirement already satisfied: greenlet!=0.4.17 in /Users/ernestolaval/Library/Python/3.9/lib/python/site-packages (from SQLAlchemy<3,>=1.4->langchain) (3.1.1)\n",
      "Requirement already satisfied: regex>=2022.1.18 in /Users/ernestolaval/Library/Python/3.9/lib/python/site-packages (from tiktoken<1,>=0.7->langchain_openai) (2024.11.6)\n",
      "Requirement already satisfied: exceptiongroup>=1.0.2 in /Users/ernestolaval/Library/Python/3.9/lib/python/site-packages (from anyio<5,>=3.5.0->openai<2.0.0,>=1.58.1->langchain_openai) (1.2.2)\n",
      "Requirement already satisfied: httpcore==1.* in /Users/ernestolaval/Library/Python/3.9/lib/python/site-packages (from httpx<1,>=0.23.0->langsmith<0.3,>=0.1.17->langchain) (1.0.5)\n",
      "Requirement already satisfied: h11<0.15,>=0.13 in /Users/ernestolaval/Library/Python/3.9/lib/python/site-packages (from httpcore==1.*->httpx<1,>=0.23.0->langsmith<0.3,>=0.1.17->langchain) (0.14.0)\n",
      "Requirement already satisfied: jsonpointer>=1.9 in /Users/ernestolaval/Library/Python/3.9/lib/python/site-packages (from jsonpatch<2.0,>=1.33->langchain-core<0.4.0,>=0.3.29->langchain) (3.0.0)\n",
      "\n",
      "\u001b[1m[\u001b[0m\u001b[34;49mnotice\u001b[0m\u001b[1;39;49m]\u001b[0m\u001b[39;49m A new release of pip is available: \u001b[0m\u001b[31;49m24.2\u001b[0m\u001b[39;49m -> \u001b[0m\u001b[32;49m25.0.1\u001b[0m\n",
      "\u001b[1m[\u001b[0m\u001b[34;49mnotice\u001b[0m\u001b[1;39;49m]\u001b[0m\u001b[39;49m To update, run: \u001b[0m\u001b[32;49m/Applications/Xcode.app/Contents/Developer/usr/bin/python3 -m pip install --upgrade pip\u001b[0m\n"
     ]
    }
   ],
   "source": [
    "!pip install langchain langchain_openai\n"
   ]
  },
  {
   "cell_type": "code",
   "execution_count": 2,
   "id": "96cde934",
   "metadata": {},
   "outputs": [
    {
     "name": "stdout",
     "output_type": "stream",
     "text": [
      "Defaulting to user installation because normal site-packages is not writeable\n",
      "Requirement already satisfied: python-dotenv in /Users/ernestolaval/Library/Python/3.9/lib/python/site-packages (1.0.1)\n",
      "\n",
      "\u001b[1m[\u001b[0m\u001b[34;49mnotice\u001b[0m\u001b[1;39;49m]\u001b[0m\u001b[39;49m A new release of pip is available: \u001b[0m\u001b[31;49m24.2\u001b[0m\u001b[39;49m -> \u001b[0m\u001b[32;49m25.0.1\u001b[0m\n",
      "\u001b[1m[\u001b[0m\u001b[34;49mnotice\u001b[0m\u001b[1;39;49m]\u001b[0m\u001b[39;49m To update, run: \u001b[0m\u001b[32;49m/Applications/Xcode.app/Contents/Developer/usr/bin/python3 -m pip install --upgrade pip\u001b[0m\n"
     ]
    }
   ],
   "source": [
    "!pip install python-dotenv"
   ]
  },
  {
   "cell_type": "code",
   "execution_count": 5,
   "id": "0e14f3fc",
   "metadata": {},
   "outputs": [],
   "source": [
    "from dotenv import load_dotenv\n",
    "import os\n",
    "\n",
    "# Load environment variables from .env file\n",
    "load_dotenv()\n",
    "\n",
    "# Now you can access your environment variables using os.environ\n",
    "os.environ['OPENAI_API_KEY'] = os.environ.get(\"OPENAI_API_KEY\")"
   ]
  },
  {
   "cell_type": "code",
   "execution_count": 9,
   "id": "9966bfe7",
   "metadata": {},
   "outputs": [],
   "source": [
    "# Función para hacer preguntas\n",
    "def ask_question(query: str) -> str:\n",
    "    input_data = {\"country\": query}\n",
    "    final_state = graph.invoke(input_data, {\"debug\": True})  # Habilita el modo de depuración\n",
    "    #final_message = final_state[\"final_answer\"]\n",
    "    return final_state"
   ]
  },
  {
   "cell_type": "code",
   "execution_count": 49,
   "id": "ae159b1a",
   "metadata": {},
   "outputs": [],
   "source": [
    "def save_narrativas_to_file(state: AnalysisState, filename=\"narrativas.json\"):\n",
    "\n",
    "    narrativas = {\n",
    "        \"ocupacion\": state.narrativa_ocupacion,\n",
    "        \"informalidad\": state.narrativa_informalidad\n",
    "    }\n",
    "    with open(filename, \"w\", encoding=\"utf-8\") as f:\n",
    "        json.dump(narrativas, f, ensure_ascii=False, indent=2)"
   ]
  },
  {
   "cell_type": "code",
   "execution_count": 45,
   "id": "9c53b66b",
   "metadata": {},
   "outputs": [],
   "source": [
    "import re\n",
    "import json\n",
    "from langchain_core.messages import SystemMessage\n",
    "from langchain_openai import ChatOpenAI\n",
    "from langgraph.graph import StateGraph, START, END\n",
    "from langgraph.prebuilt import tools_condition, ToolNode\n",
    "import pandas as pd\n",
    "from typing import Dict, Any, Optional, List\n",
    "from pydantic import BaseModel, Field\n",
    "import duckdb\n",
    "\n",
    "# Enhanced AnalysisState with reference country support\n",
    "class AnalysisState(BaseModel):\n",
    "    data: Dict[str, Any] = {}  # <-- holds both series and records per variable\n",
    "    narrativa_ocupacion: str = \"\"\n",
    "    narrativa_informalidad: str = \"\"\n",
    "    errors: list = []\n",
    "        \n",
    "        \n",
    "# Load dataset\n",
    "archivo_parquet = \"./ene-01-def-agregado.parquet\"\n",
    "df_empleo = pd.read_parquet(\"./ene-01-def-agregado.parquet\")\n",
    "\n",
    "queries = {\n",
    "    \"ocupados\" : \"\"\"\n",
    "        SELECT datos.*\n",
    "        FROM parquet_scan(?) AS datos\n",
    "        WHERE variable = 'ocupados'\n",
    "        ORDER BY año\n",
    "        \"\"\",\n",
    "    \n",
    "    \"ocupados_tpi\" : \"\"\"\n",
    "        SELECT año, variable, valor\n",
    "        FROM parquet_scan(?) AS datos\n",
    "        WHERE variable IN ('ocupados', 'tpi')\n",
    "        ORDER BY año\n",
    "        \"\"\",\n",
    "    \n",
    "    \"informalidad\" : \"\"\"\n",
    "        SELECT\n",
    "          año,\n",
    "          variable,\n",
    "          valor\n",
    "        FROM parquet_scan(?) AS datos\n",
    "        WHERE variable IN ('ocupados', 'formal', 'informal')  -- adjust as needed\n",
    "        ORDER BY variable, año\n",
    "        \"\"\",\n",
    "}\n",
    "\n",
    "def pivot_by_variable(df: pd.DataFrame) -> Dict[str, Dict[int, float]]:\n",
    "    return {\n",
    "        var: group.set_index(\"año\")[\"valor\"].to_dict()\n",
    "        for var, group in df.groupby(\"variable\")\n",
    "    }\n",
    "\n",
    "def pivot_by_year(df: pd.DataFrame) -> Dict[int, Dict[str, float]]:\n",
    "    result = {}\n",
    "    for _, row in df.iterrows():\n",
    "        year = int(row[\"año\"])\n",
    "        var = row[\"variable\"]\n",
    "        val = float(row[\"valor\"])\n",
    "        if year not in result:\n",
    "            result[year] = {}\n",
    "        result[year][var] = val\n",
    "    return result\n",
    "\n",
    "def data_run_query(query) -> dict or str:\n",
    "    # Conexión a DuckDB (en memoria)\n",
    "    con = duckdb.connect()\n",
    "\n",
    "    # Ejecutar consulta\n",
    "    result = con.execute(query, [archivo_parquet]).fetchdf()\n",
    "\n",
    "    if result.empty:\n",
    "        return \"No data found for variable 'ocupados'.\"\n",
    "    \n",
    "    series = result.set_index(\"año\")[\"valor\"].to_dict(),\n",
    "\n",
    "    return {\n",
    "        \"by_variable\": pivot_by_variable(result),\n",
    "        \"by_year\": pivot_by_year(result)\n",
    "    }\n",
    "\n",
    "\n",
    "# Initialize LLM\n",
    "llm = ChatOpenAI(model=\"gpt-4o-mini\")\n",
    "\n",
    "\n",
    "def fetch_data(state: AnalysisState) -> AnalysisState:\n",
    "    try:\n",
    "        data_ocupados = data_run_query(queries[\"ocupados\"])\n",
    "        if isinstance(data_ocupados, str):  # Error message\n",
    "            return state.copy(update={\"errors\": state.errors + [data_ocupados]})\n",
    "        \n",
    "        data_informalidad = data_run_query(queries[\"informalidad\"])\n",
    "        if isinstance(data_informalidad, str):  # Error message\n",
    "            return state.copy(update={\"errors\": state.errors + [data_informalidad]})\n",
    "        \n",
    "        \n",
    "        # Update the \"data\" dictionary with new entry\n",
    "        updated_data = state.data.copy()\n",
    "        updated_data[\"ocupados\"] = data_ocupados\n",
    "        updated_data[\"informalidad\"] = data_informalidad\n",
    "\n",
    "        return state.copy(update={\"data\": updated_data})\n",
    "\n",
    "\n",
    "\n",
    "    except Exception as e:\n",
    "        return state.copy(update={\n",
    "            \"errors\": state.errors + [f\"Data retrieval failed: {str(e)}\"]\n",
    "        })\n",
    "    \n",
    "prompt_base = \"\"\"El objeto a continuación contiene datos de series temporales sobre indicadores laborales en Chile.\n",
    "La sección by_variable permite analizar la evolución de cada variable en el tiempo.\n",
    "La sección by_year permite comparar distintas variables dentro de un mismo año.\n",
    "Los datos corresponden al trimestre diciembre-enero-febrero de cada año, por lo tanto:\n",
    "Los datos hasta el año 2020 representan la situación prepandemia, ya que reflejan condiciones anteriores al primer caso de COVID-19 reportado en Chile (marzo de 2020).\n",
    "Los datos de 2021 y 2022 corresponden al período de pandemia, y reflejan los efectos directos e indirectos de la crisis sanitaria.\n",
    "A partir de 2023, los datos representan un período postpandemia, en el que debieran observarse tendencias de recuperación, ajuste o persistencia de efectos.\n",
    "Redacta una narrativa concisa, clara y analítica que describa las principales tendencias y patrones observados. Considera los tres momentos mencionados para interpretar los cambios o continuidades en los datos.\"\"\"\n",
    "\n",
    "\n",
    "def build_narrativa_ocupacion(state: AnalysisState) -> AnalysisState:\n",
    "    if state.errors:\n",
    "        return state\n",
    "    \n",
    "    prompt_especifico = \"\"\"El indicador a analizar en este caso es ocupados, que representa el total de personas que están empleadas en el país.\n",
    "    Redacta una narrativa concisa, clara y analítica que describa las principales tendencias y patrones observados en el número de personas ocupadas \n",
    "    entre los distintos períodos descritos. Considera variaciones significativas, períodos de crecimiento o retroceso, y cualquier elemento que permita comprender la evolución del empleo en Chile durante este período.\n",
    "    \"\"\"\n",
    "    prompt_total = f\"\"\"{prompt_base}\\n\\n{prompt_especifico}\\n\\nA partir del objeto entregado, elabora el análisis solicitado.\\n\\n\n",
    "    Datos: {json.dumps(state.data['ocupados'], indent=2)}\n",
    "    \"\"\"\n",
    "   \n",
    "    state.narrativa_ocupacion = llm.invoke(prompt_total).content\n",
    "    return state\n",
    "\n",
    "def build_narrativa_informalidad(state: AnalysisState) -> AnalysisState:\n",
    "    if state.errors:\n",
    "        return state\n",
    "    \n",
    "    prompt_especifico = \"\"\"El análisis se enfoca en la informalidad laboral en Chile.\n",
    "    Se cuenta con datos del total de personas ocupadas, junto con la cantidad de personas en ocupaciones formales y en ocupaciones informales, correspondientes al trimestre diciembre-enero-febrero de cada año.\n",
    "    Redacta una narrativa clara y analítica que describa la evolución de la informalidad tanto en términos absolutos (número de personas en ocupaciones informales) como en términos relativos (porcentaje de ocupados que están en ocupaciones informales).\n",
    "    Identifica momentos de aumento o disminución de la informalidad, y relaciona estas variaciones con los tres períodos de análisis:\n",
    "    Pre-pandemia (hasta el año 2020)\n",
    "    Pandemia (años 2021 y 2022)\n",
    "    Post-pandemia (a partir del año 2023)\n",
    "    Si es posible, interpreta las razones o factores que podrían explicar las variaciones observadas.\n",
    "    \"\"\"\n",
    "    prompt_total = f\"\"\"{prompt_base}\\n\\n{prompt_especifico}\\n\\nA partir del objeto entregado, elabora el análisis solicitado.\\n\\n\n",
    "    Datos: {json.dumps(state.data['informalidad'], indent=2)}\n",
    "    \"\"\"\n",
    "   \n",
    "    state.narrativa_informalidad = llm.invoke(prompt_total).content\n",
    "    return state\n",
    "\n",
    "\n",
    "\n",
    "\n",
    "# === Updated Graph ===\n",
    "builder = StateGraph(AnalysisState)\n",
    "\n",
    "# Add all nodes\n",
    "builder.add_node(\"fetch_data\", fetch_data)\n",
    "builder.add_node(\"build_narrativa_ocupacion\", build_narrativa_ocupacion)\n",
    "builder.add_node(\"build_narrativa_informalidad\", build_narrativa_informalidad)\n",
    "\n",
    "# Define execution flow\n",
    "builder.add_edge(START, \"fetch_data\")\n",
    "#builder.add_edge(\"fetch_data\", END)\n",
    "\n",
    "builder.add_edge(\"fetch_data\", \"build_narrativa_ocupacion\")\n",
    "builder.add_edge(\"build_narrativa_ocupacion\", \"build_narrativa_informalidad\")\n",
    "builder.add_edge(\"build_narrativa_informalidad\", END)\n",
    "\n",
    "# Compile graph\n",
    "graph = builder.compile()"
   ]
  },
  {
   "cell_type": "code",
   "execution_count": 46,
   "id": "52a510c2",
   "metadata": {},
   "outputs": [
    {
     "name": "stdout",
     "output_type": "stream",
     "text": [
      "data={'ocupados': {'by_variable': {'ocupados': {2011: 7621029.946048457, 2012: 7874073.702067525, 2013: 7993296.994482528, 2014: 8202889.793072612, 2015: 8263091.077420165, 2016: 8417124.962288717, 2017: 8485699.612245208, 2018: 8787079.741272915, 2019: 8907637.494962297, 2020: 9063373.737067282, 2021: 8167623.309441002, 2022: 8768644.66719999, 2023: 9030161.591211021, 2024: 9309608.094348965, 2025: 9396873.67711522}}, 'by_year': {2011: {'ocupados': 7621029.946048457}, 2012: {'ocupados': 7874073.702067525}, 2013: {'ocupados': 7993296.994482528}, 2014: {'ocupados': 8202889.793072612}, 2015: {'ocupados': 8263091.077420165}, 2016: {'ocupados': 8417124.962288717}, 2017: {'ocupados': 8485699.612245208}, 2018: {'ocupados': 8787079.741272915}, 2019: {'ocupados': 8907637.494962297}, 2020: {'ocupados': 9063373.737067282}, 2021: {'ocupados': 8167623.309441002}, 2022: {'ocupados': 8768644.66719999}, 2023: {'ocupados': 9030161.591211021}, 2024: {'ocupados': 9309608.094348965}, 2025: {'ocupados': 9396873.67711522}}}, 'informalidad': {'by_variable': {'formal': {2011: 0.0, 2012: 0.0, 2013: 0.0, 2014: 0.0, 2015: 0.0, 2016: 0.0, 2017: 0.0, 2018: 6249508.925701857, 2019: 6422255.4246215755, 2020: 6432776.659776865, 2021: 6006452.228835036, 2022: 6329724.213854276, 2023: 6563729.506983383, 2024: 6760749.020510972, 2025: 6948712.474845873}, 'informal': {2011: 0.0, 2012: 0.0, 2013: 0.0, 2014: 0.0, 2015: 0.0, 2016: 0.0, 2017: 0.0, 2018: 2537570.8155710786, 2019: 2485382.070340718, 2020: 2630597.0772904237, 2021: 2161171.08060597, 2022: 2438920.4533457076, 2023: 2466432.084227568, 2024: 2548859.073837934, 2025: 2448161.2022693343}, 'ocupados': {2011: 7621029.946048457, 2012: 7874073.702067525, 2013: 7993296.994482528, 2014: 8202889.793072612, 2015: 8263091.077420165, 2016: 8417124.962288717, 2017: 8485699.612245208, 2018: 8787079.741272915, 2019: 8907637.494962297, 2020: 9063373.737067282, 2021: 8167623.309441002, 2022: 8768644.66719999, 2023: 9030161.591211021, 2024: 9309608.094348965, 2025: 9396873.67711522}}, 'by_year': {2011: {'formal': 0.0, 'informal': 0.0, 'ocupados': 7621029.946048457}, 2012: {'formal': 0.0, 'informal': 0.0, 'ocupados': 7874073.702067525}, 2013: {'formal': 0.0, 'informal': 0.0, 'ocupados': 7993296.994482528}, 2014: {'formal': 0.0, 'informal': 0.0, 'ocupados': 8202889.793072612}, 2015: {'formal': 0.0, 'informal': 0.0, 'ocupados': 8263091.077420165}, 2016: {'formal': 0.0, 'informal': 0.0, 'ocupados': 8417124.962288717}, 2017: {'formal': 0.0, 'informal': 0.0, 'ocupados': 8485699.612245208}, 2018: {'formal': 6249508.925701857, 'informal': 2537570.8155710786, 'ocupados': 8787079.741272915}, 2019: {'formal': 6422255.4246215755, 'informal': 2485382.070340718, 'ocupados': 8907637.494962297}, 2020: {'formal': 6432776.659776865, 'informal': 2630597.0772904237, 'ocupados': 9063373.737067282}, 2021: {'formal': 6006452.228835036, 'informal': 2161171.08060597, 'ocupados': 8167623.309441002}, 2022: {'formal': 6329724.213854276, 'informal': 2438920.4533457076, 'ocupados': 8768644.66719999}, 2023: {'formal': 6563729.506983383, 'informal': 2466432.084227568, 'ocupados': 9030161.591211021}, 2024: {'formal': 6760749.020510972, 'informal': 2548859.073837934, 'ocupados': 9309608.094348965}, 2025: {'formal': 6948712.474845873, 'informal': 2448161.2022693343, 'ocupados': 9396873.67711522}}}} narrativa_ocupacion='La evolución del número de ocupados en Chile entre 2011 y 2025 presenta una narrativa marcada por dos períodos significativos: la fase prepandemia y la fase postpandemia, con un impacto notable durante el año de la pandemia (2021).\\n\\n**Período Prepandemia (2011-2020)**\\n\\nDurante la fase prepandemia, se observa un crecimiento constante y sostenido en el número de personas ocupadas. Desde 2011, el total de ocupados aumentó de aproximadamente 7.6 millones a alrededor de 9.1 millones en 2020, lo que representa un incremento de cerca del 19% en una década. Este crecimiento se corresponde con una tendencia de expansión económica, donde cada año se registran aumentos en la ocupación, destacando el crecimiento más fuerte en 2019, justo antes de la llegada de la pandemia.\\n\\n**Impacto de la Pandemia (2021)**\\n\\nEl año 2021 marcó un cambio drástico en esta tendencia. La ocupación se desplomó a 8.2 millones, representando una reducción de aproximadamente 1.1 millones de empleos, equivalente a una caída del 12.2% respecto al año anterior. Esta disminución está directamente relacionada con las restricciones impuestas por la pandemia de COVID-19, que afectaron gravemente sectores económicos cruciales, y se tradujo en un elevado desempleo y cierre de empresas.\\n\\n**Recuperación y Tendencias Postpandemia (2022-2025)**\\n\\nA partir de 2022, Chile comenzó a mostrar signos de recuperación. El número de ocupados aumentó nuevamente a aproximadamente 8.8 millones, recuperando parte del empleo perdido durante la crisis sanitaria. En 2023, la ocupación alcanzó casi 9.0 millones, acercándose a los niveles prepandemia, con una proyección optimista para los años siguientes. De continuar la tendencia, se espera que se superen los 9.3 millones para 2025, lo que indicaría una recuperación completa y potencialmente un crecimiento en la creación de empleos en el ámbito postpandemia.\\n\\n**Análisis General**\\n\\nEn resumen, el análisis de la ocupación en Chile revela un ciclo de expansión, crisis y recuperación. Mientras que la primera etapa muestra un crecimiento sólido y continuo, el impacto de la pandemia ha tenido efectos profundos y negativos en el mercado laboral. Sin embargo, los años posteriores a la crisis sanitaria sugieren un camino hacia la recuperación, con señales de crecimiento que podrían superar los niveles prepandemia en los próximos años. Con ello, se plantea la importancia de continuar fomentando políticas que impulsen el empleo y enfrenten los desafíos estructurales del mercado laboral para mantener esta tendencia positiva a largo plazo.' narrativa_informalidad='### Análisis de la Informalidad Laboral en Chile (2011-2025)\\n\\nEl análisis de la informalidad laboral en Chile desde 2011 hasta 2025 revela tendencias significativas relacionadas con las condiciones socioeconómicas del país, principalmente a través de tres periodos: prepandemia, pandemia y postpandemia.\\n\\n#### 1. Prepandemia (Hasta 2020)\\n\\nDurante el periodo prepandemia, la informalidad laboral en Chile fue relativamente estable. A partir de 2018, se registraron datos sobre la población informal, reflejando un crecimiento moderado. En 2018, había aproximadamente 2.54 millones de personas en ocupaciones informales, lo que representaba alrededor del 28.8% del total de ocupados (8.79 millones). Esta proporción se mantuvo en general estable en 2019 y aumentó ligeramente en 2020, con aproximadamente 2.63 millones de personas informales y un 29.0% de informalidad, lo que podría sugerir que el desempleo estaba comenzando a incrementarse debido a factores económicos previos a la pandemia, aunque la economía aún no mostraba un colapso significativo.\\n\\n#### 2. Pandemia (2021-2022)\\n\\nEl impacto de la pandemia de COVID-19 en Chile se refleja de manera notoria en el mercado laboral y, específicamente, en la informalidad. En 2021, el número de personas en ocupaciones informales descendió drásticamente a aproximadamente 2.16 millones (26.5% del total de ocupados), una caída significativa en comparación con el año anterior. Esto se puede atribuir a la crisis económica provocada por la pandemia, que afectó desproporcionadamente a los sectores informales, donde muchos trabajadores perdieron su empleo de manera temporal o permanente.\\n\\nA pesar de una leve recuperación en 2022, donde la informalidad aumentó nuevamente a cerca de 2.44 millones (27.8% del total de ocupados), el panorama general seguía siendo el de una economía en crisis, con la capacidad de los trabajadores informales para sostenerse disminuyendo.\\n\\n#### 3. Postpandemia (A partir de 2023)\\n\\nA partir de 2023, el escenario laboral en Chile parece estar en proceso de recuperación. El número de trabajadores informales aumenta ligeramente, alcanzando aproximadamente 2.47 millones, lo que corresponde a un 27.3% de la fuerza laboral total de 9.03 millones de ocupados. Esta ligero incremento, en comparación a 2022, sugiere que el mercado laboral se está ajustando postpandemia, aunque los niveles de informalidad aún no han recuperado los índices prepandemia, lo que podría señalar la persistente vulnerabilidad de los trabajadores en el sector informal.\\n\\n#### Conclusiones\\n\\nEl análisis de la informalidad laboral en Chile muestra un patrón de estabilidad moderada durante la prepandemia, una caída dramática y abrupta durante la pandemia, y una lenta recuperación postpandemia. \\n\\nLas variaciones en el número y porcentaje de trabajadores informales pueden ser interpretadas a través de varios factores:\\n\\n- **Crisis Económica:** La pandemia trajo consigo un deterioro generalizado del mercado laboral, afectando especialmente a aquellos en situaciones de vulnerabilidad, dejando a muchos sin acceso a trabajos formales.\\n- **Políticas Públicas:** La reacción del gobierno y las políticas de alivio económico también jugaron un papel crítico en la mitigación de estos efectos. La reducción de la informalidad en 2021 podría señalar el impacto inicial de tales políticas que, sin embargo, fueron insuficientes para devolver a los trabajadores informales a la formalidad.\\n- **Transiciones Estructurales:** A medida que el país comienza a recuperarse, es posible que siga existiendo una franja de informalidad que persista debido a cambios estructurales en la economía post-pandemia, donde algunos trabajadores, al perder sus empleos formales, puedan haber tomado opciones informales permanentes.\\n\\nCon base en esta narrativa, es imperativo que las políticas laborales en Chile se centren en facilitar la transición de trabajadores informales a formales, promoviendo así una mayor estabilidad y protección laboral en el futuro.' errors=[]\n"
     ]
    }
   ],
   "source": [
    "from IPython.display import Markdown, display\n",
    "\n",
    "initial_state = AnalysisState().dict()\n",
    "raw_state = graph.invoke(initial_state, {\"debug\": True})\n",
    "final_state = AnalysisState(**raw_state)\n",
    "\n",
    "\n",
    "#display(Markdown(answer))\n",
    "print(final_state)"
   ]
  },
  {
   "cell_type": "code",
   "execution_count": 20,
   "id": "d27bea10",
   "metadata": {},
   "outputs": [
    {
     "data": {
      "image/png": "[encoded data removed]",
      "text/plain": [
       "<IPython.core.display.Image object>"
      ]
     },
     "metadata": {},
     "output_type": "display_data"
    }
   ],
   "source": [
    "from IPython.display import Image, display\n",
    "\n",
    "try:\n",
    "    display(Image(graph.get_graph().draw_mermaid_png()))\n",
    "except Exception:\n",
    "    # This requires some extra dependencies and is optional\n",
    "    pass"
   ]
  },
  {
   "cell_type": "code",
   "execution_count": 47,
   "id": "8fdb9c42",
   "metadata": {},
   "outputs": [
    {
     "data": {
      "text/markdown": [
       "### Análisis de la Informalidad Laboral en Chile (2011-2025)\n",
       "\n",
       "El análisis de la informalidad laboral en Chile desde 2011 hasta 2025 revela tendencias significativas relacionadas con las condiciones socioeconómicas del país, principalmente a través de tres periodos: prepandemia, pandemia y postpandemia.\n",
       "\n",
       "#### 1. Prepandemia (Hasta 2020)\n",
       "\n",
       "Durante el periodo prepandemia, la informalidad laboral en Chile fue relativamente estable. A partir de 2018, se registraron datos sobre la población informal, reflejando un crecimiento moderado. En 2018, había aproximadamente 2.54 millones de personas en ocupaciones informales, lo que representaba alrededor del 28.8% del total de ocupados (8.79 millones). Esta proporción se mantuvo en general estable en 2019 y aumentó ligeramente en 2020, con aproximadamente 2.63 millones de personas informales y un 29.0% de informalidad, lo que podría sugerir que el desempleo estaba comenzando a incrementarse debido a factores económicos previos a la pandemia, aunque la economía aún no mostraba un colapso significativo.\n",
       "\n",
       "#### 2. Pandemia (2021-2022)\n",
       "\n",
       "El impacto de la pandemia de COVID-19 en Chile se refleja de manera notoria en el mercado laboral y, específicamente, en la informalidad. En 2021, el número de personas en ocupaciones informales descendió drásticamente a aproximadamente 2.16 millones (26.5% del total de ocupados), una caída significativa en comparación con el año anterior. Esto se puede atribuir a la crisis económica provocada por la pandemia, que afectó desproporcionadamente a los sectores informales, donde muchos trabajadores perdieron su empleo de manera temporal o permanente.\n",
       "\n",
       "A pesar de una leve recuperación en 2022, donde la informalidad aumentó nuevamente a cerca de 2.44 millones (27.8% del total de ocupados), el panorama general seguía siendo el de una economía en crisis, con la capacidad de los trabajadores informales para sostenerse disminuyendo.\n",
       "\n",
       "#### 3. Postpandemia (A partir de 2023)\n",
       "\n",
       "A partir de 2023, el escenario laboral en Chile parece estar en proceso de recuperación. El número de trabajadores informales aumenta ligeramente, alcanzando aproximadamente 2.47 millones, lo que corresponde a un 27.3% de la fuerza laboral total de 9.03 millones de ocupados. Esta ligero incremento, en comparación a 2022, sugiere que el mercado laboral se está ajustando postpandemia, aunque los niveles de informalidad aún no han recuperado los índices prepandemia, lo que podría señalar la persistente vulnerabilidad de los trabajadores en el sector informal.\n",
       "\n",
       "#### Conclusiones\n",
       "\n",
       "El análisis de la informalidad laboral en Chile muestra un patrón de estabilidad moderada durante la prepandemia, una caída dramática y abrupta durante la pandemia, y una lenta recuperación postpandemia. \n",
       "\n",
       "Las variaciones en el número y porcentaje de trabajadores informales pueden ser interpretadas a través de varios factores:\n",
       "\n",
       "- **Crisis Económica:** La pandemia trajo consigo un deterioro generalizado del mercado laboral, afectando especialmente a aquellos en situaciones de vulnerabilidad, dejando a muchos sin acceso a trabajos formales.\n",
       "- **Políticas Públicas:** La reacción del gobierno y las políticas de alivio económico también jugaron un papel crítico en la mitigación de estos efectos. La reducción de la informalidad en 2021 podría señalar el impacto inicial de tales políticas que, sin embargo, fueron insuficientes para devolver a los trabajadores informales a la formalidad.\n",
       "- **Transiciones Estructurales:** A medida que el país comienza a recuperarse, es posible que siga existiendo una franja de informalidad que persista debido a cambios estructurales en la economía post-pandemia, donde algunos trabajadores, al perder sus empleos formales, puedan haber tomado opciones informales permanentes.\n",
       "\n",
       "Con base en esta narrativa, es imperativo que las políticas laborales en Chile se centren en facilitar la transición de trabajadores informales a formales, promoviendo así una mayor estabilidad y protección laboral en el futuro."
      ],
      "text/plain": [
       "<IPython.core.display.Markdown object>"
      ]
     },
     "metadata": {},
     "output_type": "display_data"
    }
   ],
   "source": [
    "display(Markdown(final_state.narrativa_informalidad))\n"
   ]
  },
  {
   "cell_type": "code",
   "execution_count": 50,
   "id": "aa55c9ae",
   "metadata": {},
   "outputs": [
    {
     "name": "stdout",
     "output_type": "stream",
     "text": [
      "✅ Narrativas guardadas en 'narrativas.json'\n"
     ]
    }
   ],
   "source": [
    "# Guardar las narrativas generadas\n",
    "save_narrativas_to_file(final_state)\n",
    "\n",
    "print(\"✅ Narrativas guardadas en 'narrativas.json'\")"
   ]
  },
  {
   "cell_type": "raw",
   "id": "281c50e4",
   "metadata": {},
   "source": []
  },
  {
   "cell_type": "code",
   "execution_count": null,
   "id": "4c8c57e4",
   "metadata": {},
   "outputs": [],
   "source": []
  }
 ],
 "metadata": {
  "kernelspec": {
   "display_name": "Python 3 (ipykernel)",
   "language": "python",
   "name": "python3"
  },
  "language_info": {
   "codemirror_mode": {
    "name": "ipython",
    "version": 3
   },
   "file_extension": ".py",
   "mimetype": "text/x-python",
   "name": "python",
   "nbconvert_exporter": "python",
   "pygments_lexer": "ipython3",
   "version": "3.11.7"
  }
 },
 "nbformat": 4,
 "nbformat_minor": 5
}
