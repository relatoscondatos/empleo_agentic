{
 "cells": [
  {
   "cell_type": "code",
   "execution_count": 1,
   "id": "5140c155",
   "metadata": {},
   "outputs": [
    {
     "name": "stdout",
     "output_type": "stream",
     "text": [
      "Defaulting to user installation because normal site-packages is not writeable\n",
      "Requirement already satisfied: langchain in /Users/ernestolaval/Library/Python/3.9/lib/python/site-packages (0.3.14)\n",
      "Requirement already satisfied: langchain_openai in /Users/ernestolaval/Library/Python/3.9/lib/python/site-packages (0.3.0)\n",
      "Requirement already satisfied: PyYAML>=5.3 in /Users/ernestolaval/Library/Python/3.9/lib/python/site-packages (from langchain) (6.0.2)\n",
      "Requirement already satisfied: SQLAlchemy<3,>=1.4 in /Users/ernestolaval/Library/Python/3.9/lib/python/site-packages (from langchain) (2.0.37)\n",
      "Requirement already satisfied: aiohttp<4.0.0,>=3.8.3 in /Users/ernestolaval/Library/Python/3.9/lib/python/site-packages (from langchain) (3.11.11)\n",
      "Requirement already satisfied: async-timeout<5.0.0,>=4.0.0 in /Users/ernestolaval/Library/Python/3.9/lib/python/site-packages (from langchain) (4.0.3)\n",
      "Requirement already satisfied: langchain-core<0.4.0,>=0.3.29 in /Users/ernestolaval/Library/Python/3.9/lib/python/site-packages (from langchain) (0.3.30)\n",
      "Requirement already satisfied: langchain-text-splitters<0.4.0,>=0.3.3 in /Users/ernestolaval/Library/Python/3.9/lib/python/site-packages (from langchain) (0.3.5)\n",
      "Requirement already satisfied: langsmith<0.3,>=0.1.17 in /Users/ernestolaval/Library/Python/3.9/lib/python/site-packages (from langchain) (0.2.11)\n",
      "Requirement already satisfied: numpy<2,>=1.22.4 in /Users/ernestolaval/Library/Python/3.9/lib/python/site-packages (from langchain) (1.26.4)\n",
      "Requirement already satisfied: pydantic<3.0.0,>=2.7.4 in /Users/ernestolaval/Library/Python/3.9/lib/python/site-packages (from langchain) (2.8.2)\n",
      "Requirement already satisfied: requests<3,>=2 in /Users/ernestolaval/Library/Python/3.9/lib/python/site-packages (from langchain) (2.32.3)\n",
      "Requirement already satisfied: tenacity!=8.4.0,<10,>=8.1.0 in /Users/ernestolaval/Library/Python/3.9/lib/python/site-packages (from langchain) (9.0.0)\n",
      "Requirement already satisfied: openai<2.0.0,>=1.58.1 in /Users/ernestolaval/Library/Python/3.9/lib/python/site-packages (from langchain_openai) (1.59.8)\n",
      "Requirement already satisfied: tiktoken<1,>=0.7 in /Users/ernestolaval/Library/Python/3.9/lib/python/site-packages (from langchain_openai) (0.8.0)\n",
      "Requirement already satisfied: aiohappyeyeballs>=2.3.0 in /Users/ernestolaval/Library/Python/3.9/lib/python/site-packages (from aiohttp<4.0.0,>=3.8.3->langchain) (2.4.4)\n",
      "Requirement already satisfied: aiosignal>=1.1.2 in /Users/ernestolaval/Library/Python/3.9/lib/python/site-packages (from aiohttp<4.0.0,>=3.8.3->langchain) (1.3.2)\n",
      "Requirement already satisfied: attrs>=17.3.0 in /Users/ernestolaval/Library/Python/3.9/lib/python/site-packages (from aiohttp<4.0.0,>=3.8.3->langchain) (24.3.0)\n",
      "Requirement already satisfied: frozenlist>=1.1.1 in /Users/ernestolaval/Library/Python/3.9/lib/python/site-packages (from aiohttp<4.0.0,>=3.8.3->langchain) (1.5.0)\n",
      "Requirement already satisfied: multidict<7.0,>=4.5 in /Users/ernestolaval/Library/Python/3.9/lib/python/site-packages (from aiohttp<4.0.0,>=3.8.3->langchain) (6.1.0)\n",
      "Requirement already satisfied: propcache>=0.2.0 in /Users/ernestolaval/Library/Python/3.9/lib/python/site-packages (from aiohttp<4.0.0,>=3.8.3->langchain) (0.2.1)\n",
      "Requirement already satisfied: yarl<2.0,>=1.17.0 in /Users/ernestolaval/Library/Python/3.9/lib/python/site-packages (from aiohttp<4.0.0,>=3.8.3->langchain) (1.18.3)\n",
      "Requirement already satisfied: jsonpatch<2.0,>=1.33 in /Users/ernestolaval/Library/Python/3.9/lib/python/site-packages (from langchain-core<0.4.0,>=0.3.29->langchain) (1.33)\n",
      "Requirement already satisfied: packaging<25,>=23.2 in /Users/ernestolaval/Library/Python/3.9/lib/python/site-packages (from langchain-core<0.4.0,>=0.3.29->langchain) (24.1)\n",
      "Requirement already satisfied: typing-extensions>=4.7 in /Users/ernestolaval/Library/Python/3.9/lib/python/site-packages (from langchain-core<0.4.0,>=0.3.29->langchain) (4.12.2)\n",
      "Requirement already satisfied: httpx<1,>=0.23.0 in /Users/ernestolaval/Library/Python/3.9/lib/python/site-packages (from langsmith<0.3,>=0.1.17->langchain) (0.27.0)\n",
      "Requirement already satisfied: orjson<4.0.0,>=3.9.14 in /Users/ernestolaval/Library/Python/3.9/lib/python/site-packages (from langsmith<0.3,>=0.1.17->langchain) (3.10.14)\n",
      "Requirement already satisfied: requests-toolbelt<2.0.0,>=1.0.0 in /Users/ernestolaval/Library/Python/3.9/lib/python/site-packages (from langsmith<0.3,>=0.1.17->langchain) (1.0.0)\n",
      "Requirement already satisfied: anyio<5,>=3.5.0 in /Users/ernestolaval/Library/Python/3.9/lib/python/site-packages (from openai<2.0.0,>=1.58.1->langchain_openai) (4.4.0)\n",
      "Requirement already satisfied: distro<2,>=1.7.0 in /Users/ernestolaval/Library/Python/3.9/lib/python/site-packages (from openai<2.0.0,>=1.58.1->langchain_openai) (1.9.0)\n",
      "Requirement already satisfied: jiter<1,>=0.4.0 in /Users/ernestolaval/Library/Python/3.9/lib/python/site-packages (from openai<2.0.0,>=1.58.1->langchain_openai) (0.5.0)\n",
      "Requirement already satisfied: sniffio in /Users/ernestolaval/Library/Python/3.9/lib/python/site-packages (from openai<2.0.0,>=1.58.1->langchain_openai) (1.3.1)\n",
      "Requirement already satisfied: tqdm>4 in /Users/ernestolaval/Library/Python/3.9/lib/python/site-packages (from openai<2.0.0,>=1.58.1->langchain_openai) (4.66.5)\n",
      "Requirement already satisfied: annotated-types>=0.4.0 in /Users/ernestolaval/Library/Python/3.9/lib/python/site-packages (from pydantic<3.0.0,>=2.7.4->langchain) (0.7.0)\n",
      "Requirement already satisfied: pydantic-core==2.20.1 in /Users/ernestolaval/Library/Python/3.9/lib/python/site-packages (from pydantic<3.0.0,>=2.7.4->langchain) (2.20.1)\n",
      "Requirement already satisfied: charset-normalizer<4,>=2 in /Users/ernestolaval/Library/Python/3.9/lib/python/site-packages (from requests<3,>=2->langchain) (3.3.2)\n",
      "Requirement already satisfied: idna<4,>=2.5 in /Users/ernestolaval/Library/Python/3.9/lib/python/site-packages (from requests<3,>=2->langchain) (3.7)\n",
      "Requirement already satisfied: urllib3<3,>=1.21.1 in /Users/ernestolaval/Library/Python/3.9/lib/python/site-packages (from requests<3,>=2->langchain) (2.2.2)\n",
      "Requirement already satisfied: certifi>=2017.4.17 in /Users/ernestolaval/Library/Python/3.9/lib/python/site-packages (from requests<3,>=2->langchain) (2024.6.2)\n",
      "Requirement already satisfied: greenlet!=0.4.17 in /Users/ernestolaval/Library/Python/3.9/lib/python/site-packages (from SQLAlchemy<3,>=1.4->langchain) (3.1.1)\n",
      "Requirement already satisfied: regex>=2022.1.18 in /Users/ernestolaval/Library/Python/3.9/lib/python/site-packages (from tiktoken<1,>=0.7->langchain_openai) (2024.11.6)\n",
      "Requirement already satisfied: exceptiongroup>=1.0.2 in /Users/ernestolaval/Library/Python/3.9/lib/python/site-packages (from anyio<5,>=3.5.0->openai<2.0.0,>=1.58.1->langchain_openai) (1.2.2)\n",
      "Requirement already satisfied: httpcore==1.* in /Users/ernestolaval/Library/Python/3.9/lib/python/site-packages (from httpx<1,>=0.23.0->langsmith<0.3,>=0.1.17->langchain) (1.0.5)\n",
      "Requirement already satisfied: h11<0.15,>=0.13 in /Users/ernestolaval/Library/Python/3.9/lib/python/site-packages (from httpcore==1.*->httpx<1,>=0.23.0->langsmith<0.3,>=0.1.17->langchain) (0.14.0)\n",
      "Requirement already satisfied: jsonpointer>=1.9 in /Users/ernestolaval/Library/Python/3.9/lib/python/site-packages (from jsonpatch<2.0,>=1.33->langchain-core<0.4.0,>=0.3.29->langchain) (3.0.0)\n",
      "\n",
      "\u001b[1m[\u001b[0m\u001b[34;49mnotice\u001b[0m\u001b[1;39;49m]\u001b[0m\u001b[39;49m A new release of pip is available: \u001b[0m\u001b[31;49m24.2\u001b[0m\u001b[39;49m -> \u001b[0m\u001b[32;49m25.0.1\u001b[0m\n",
      "\u001b[1m[\u001b[0m\u001b[34;49mnotice\u001b[0m\u001b[1;39;49m]\u001b[0m\u001b[39;49m To update, run: \u001b[0m\u001b[32;49m/Applications/Xcode.app/Contents/Developer/usr/bin/python3 -m pip install --upgrade pip\u001b[0m\n"
     ]
    }
   ],
   "source": [
    "!pip install langchain langchain_openai\n"
   ]
  },
  {
   "cell_type": "code",
   "execution_count": 2,
   "id": "96cde934",
   "metadata": {},
   "outputs": [
    {
     "name": "stdout",
     "output_type": "stream",
     "text": [
      "Defaulting to user installation because normal site-packages is not writeable\n",
      "Requirement already satisfied: python-dotenv in /Users/ernestolaval/Library/Python/3.9/lib/python/site-packages (1.0.1)\n",
      "\n",
      "\u001b[1m[\u001b[0m\u001b[34;49mnotice\u001b[0m\u001b[1;39;49m]\u001b[0m\u001b[39;49m A new release of pip is available: \u001b[0m\u001b[31;49m24.2\u001b[0m\u001b[39;49m -> \u001b[0m\u001b[32;49m25.0.1\u001b[0m\n",
      "\u001b[1m[\u001b[0m\u001b[34;49mnotice\u001b[0m\u001b[1;39;49m]\u001b[0m\u001b[39;49m To update, run: \u001b[0m\u001b[32;49m/Applications/Xcode.app/Contents/Developer/usr/bin/python3 -m pip install --upgrade pip\u001b[0m\n"
     ]
    }
   ],
   "source": [
    "!pip install python-dotenv"
   ]
  },
  {
   "cell_type": "code",
   "execution_count": 3,
   "id": "0e14f3fc",
   "metadata": {},
   "outputs": [
    {
     "ename": "TypeError",
     "evalue": "str expected, not NoneType",
     "output_type": "error",
     "traceback": [
      "\u001b[0;31m---------------------------------------------------------------------------\u001b[0m",
      "\u001b[0;31mTypeError\u001b[0m                                 Traceback (most recent call last)",
      "Cell \u001b[0;32mIn[3], line 8\u001b[0m\n\u001b[1;32m      5\u001b[0m load_dotenv()\n\u001b[1;32m      7\u001b[0m \u001b[38;5;66;03m# Now you can access your environment variables using os.environ\u001b[39;00m\n\u001b[0;32m----> 8\u001b[0m os\u001b[38;5;241m.\u001b[39menviron[\u001b[38;5;124m'\u001b[39m\u001b[38;5;124mOPENAI_API_KEY\u001b[39m\u001b[38;5;124m'\u001b[39m] \u001b[38;5;241m=\u001b[39m os\u001b[38;5;241m.\u001b[39menviron\u001b[38;5;241m.\u001b[39mget(\u001b[38;5;124m\"\u001b[39m\u001b[38;5;124mOPENAI_API_KEY\u001b[39m\u001b[38;5;124m\"\u001b[39m)\n",
      "File \u001b[0;32m<frozen os>:684\u001b[0m, in \u001b[0;36m__setitem__\u001b[0;34m(self, key, value)\u001b[0m\n",
      "File \u001b[0;32m<frozen os>:758\u001b[0m, in \u001b[0;36mencode\u001b[0;34m(value)\u001b[0m\n",
      "\u001b[0;31mTypeError\u001b[0m: str expected, not NoneType"
     ]
    }
   ],
   "source": [
    "from dotenv import load_dotenv\n",
    "import os\n",
    "\n",
    "# Load environment variables from .env file\n",
    "load_dotenv()\n",
    "\n",
    "# Now you can access your environment variables using os.environ\n",
    "os.environ['OPENAI_API_KEY'] = os.environ.get(\"OPENAI_API_KEY\")"
   ]
  },
  {
   "cell_type": "code",
   "execution_count": null,
   "id": "3adb3390",
   "metadata": {
    "collapsed": true
   },
   "outputs": [],
   "source": []
  },
  {
   "cell_type": "code",
   "execution_count": 108,
   "id": "9966bfe7",
   "metadata": {},
   "outputs": [],
   "source": [
    "# Función para hacer preguntas\n",
    "def ask_question(query: str) -> str:\n",
    "    input_data = {\"country\": query}\n",
    "    final_state = graph.invoke(input_data, {\"debug\": True})  # Habilita el modo de depuración\n",
    "    #final_message = final_state[\"final_answer\"]\n",
    "    return final_state"
   ]
  },
  {
   "cell_type": "code",
   "execution_count": 109,
   "id": "d27bea10",
   "metadata": {},
   "outputs": [
    {
     "data": {
      "image/png": "[encoded data removed]",
      "text/plain": [
       "<IPython.core.display.Image object>"
      ]
     },
     "metadata": {},
     "output_type": "display_data"
    }
   ],
   "source": [
    "from IPython.display import Image, display\n",
    "\n",
    "try:\n",
    "    display(Image(graph.get_graph().draw_mermaid_png()))\n",
    "except Exception:\n",
    "    # This requires some extra dependencies and is optional\n",
    "    pass"
   ]
  },
  {
   "cell_type": "code",
   "execution_count": 110,
   "id": "ae159b1a",
   "metadata": {},
   "outputs": [],
   "source": [
    "def save_narrativas_to_file(state: AnalysisState, filename=\"narrativas.json\"):\n",
    "\n",
    "    narrativas = {\n",
    "        \"ocupacion\": state.narrativa_ocupacion,\n",
    "        \"tpi\": state.narrativa_tpi\n",
    "    }\n",
    "    with open(filename, \"w\", encoding=\"utf-8\") as f:\n",
    "        json.dump(narrativas, f, ensure_ascii=False, indent=2)"
   ]
  },
  {
   "cell_type": "code",
   "execution_count": 142,
   "id": "9c53b66b",
   "metadata": {},
   "outputs": [],
   "source": [
    "import re\n",
    "import json\n",
    "from langchain_core.messages import SystemMessage\n",
    "from langchain_openai import ChatOpenAI\n",
    "from langgraph.graph import StateGraph, START, END\n",
    "from langgraph.prebuilt import tools_condition, ToolNode\n",
    "import pandas as pd\n",
    "from typing import Dict, Any, Optional, List\n",
    "from pydantic import BaseModel, Field\n",
    "import duckdb\n",
    "\n",
    "# Enhanced AnalysisState with reference country support\n",
    "class AnalysisState(BaseModel):\n",
    "    data: Dict[str, Any] = {}  # <-- holds both series and records per variable\n",
    "    narrativa_ocupacion: str = \"\"\n",
    "    narrativa_tpi: str = \"\"\n",
    "    errors: list = []\n",
    "        \n",
    "        \n",
    "# Load dataset\n",
    "archivo_parquet = \"./data/ene-01-def-agregado.parquet\"\n",
    "df_empleo = pd.read_parquet(\"./data/ene-01-def-agregado.parquet\")\n",
    "\n",
    "queries = {\n",
    "    \"ocupados\" : \"\"\"\n",
    "        SELECT datos.*\n",
    "        FROM parquet_scan(?) AS datos\n",
    "        WHERE variable = 'ocupados'\n",
    "        ORDER BY año\n",
    "        \"\"\",\n",
    "    \n",
    "    \"ocupados_tpi\" : \"\"\"\n",
    "        SELECT año, variable, valor\n",
    "        FROM parquet_scan(?) AS datos\n",
    "        WHERE variable IN ('ocupados', 'tpi')\n",
    "        ORDER BY año\n",
    "        \"\"\"\n",
    "}\n",
    "\n",
    "def pivot_by_variable(df: pd.DataFrame) -> Dict[str, Dict[int, float]]:\n",
    "    return {\n",
    "        var: group.set_index(\"año\")[\"valor\"].to_dict()\n",
    "        for var, group in df.groupby(\"variable\")\n",
    "    }\n",
    "\n",
    "def pivot_by_year(df: pd.DataFrame) -> Dict[int, Dict[str, float]]:\n",
    "    result = {}\n",
    "    for _, row in df.iterrows():\n",
    "        year = int(row[\"año\"])\n",
    "        var = row[\"variable\"]\n",
    "        val = float(row[\"valor\"])\n",
    "        if year not in result:\n",
    "            result[year] = {}\n",
    "        result[year][var] = val\n",
    "    return result\n",
    "\n",
    "def data_run_query(query) -> dict or str:\n",
    "    # Conexión a DuckDB (en memoria)\n",
    "    con = duckdb.connect()\n",
    "\n",
    "    # Ejecutar consulta\n",
    "    result = con.execute(query, [archivo_parquet]).fetchdf()\n",
    "\n",
    "    if result.empty:\n",
    "        return \"No data found for variable 'ocupados'.\"\n",
    "    \n",
    "    series = result.set_index(\"año\")[\"valor\"].to_dict(),\n",
    "\n",
    "    return {\n",
    "        \"by_variable\": pivot_by_variable(result),\n",
    "        \"by_year\": pivot_by_year(result)\n",
    "    }\n",
    "\n",
    "\n",
    "# Initialize LLM\n",
    "llm = ChatOpenAI(model=\"gpt-4o-mini\")\n",
    "\n",
    "def fetch_data(state: AnalysisState) -> AnalysisState:\n",
    "    try:\n",
    "        data = data_run_query(queries[\"ocupados\"])\n",
    "        if isinstance(data, str):  # Error message\n",
    "            return state.copy(update={\"errors\": state.errors + [data]})\n",
    "        \n",
    "        \n",
    "        # Update the \"data\" dictionary with new entry\n",
    "        updated_data = state.data.copy()\n",
    "        updated_data[\"ocupados\"] = data\n",
    "\n",
    "        return state.copy(update={\"data\": updated_data})\n",
    "\n",
    "\n",
    "\n",
    "    except Exception as e:\n",
    "        return state.copy(update={\n",
    "            \"errors\": state.errors + [f\"Data retrieval failed: {str(e)}\"]\n",
    "        })\n",
    "    \n",
    "prompt_base = \"\"\"El objeto a continuación contiene datos de series temporales sobre indicadores laborales en Chile.\n",
    "La sección by_variable permite analizar la evolución de cada variable en el tiempo.\n",
    "La sección by_year permite comparar distintas variables dentro de un mismo año.\n",
    "Los datos corresponden al trimestre diciembre-enero-febrero de cada año, por lo tanto:\n",
    "Los datos hasta el año 2020 representan la situación prepandemia, ya que reflejan condiciones anteriores al primer caso de COVID-19 reportado en Chile (marzo de 2020).\n",
    "Los datos de 2021 y 2022 corresponden al período de pandemia, y reflejan los efectos directos e indirectos de la crisis sanitaria.\n",
    "A partir de 2023, los datos representan un período postpandemia, en el que debieran observarse tendencias de recuperación, ajuste o persistencia de efectos.\n",
    "Redacta una narrativa concisa, clara y analítica que describa las principales tendencias y patrones observados. Considera los tres momentos mencionados para interpretar los cambios o continuidades en los datos.\"\"\"\n",
    "\n",
    "\n",
    "def build_narrativa_ocupacion(state: AnalysisState) -> AnalysisState:\n",
    "    if state.errors:\n",
    "        return state\n",
    "    \n",
    "    prompt_especifico = \"\"\"El indicador a analizar en este caso es ocupados, que representa el total de personas que están empleadas en el país.\n",
    "    Redacta una narrativa concisa, clara y analítica que describa las principales tendencias y patrones observados en el número de personas ocupadas \n",
    "    entre los distintos períodos descritos. Considera variaciones significativas, períodos de crecimiento o retroceso, y cualquier elemento que permita comprender la evolución del empleo en Chile durante este período.\n",
    "    \"\"\"\n",
    "    prompt_total = f\"\"\"{prompt_base}\\n\\n{prompt_especifico}\\n\\nA partir del objeto entregado, elabora el análisis solicitado.\\n\\n\n",
    "    Datos: {json.dumps(state.data['ocupados'], indent=2)}\n",
    "    \"\"\"\n",
    "   \n",
    "    state.narrativa_ocupacion = llm.invoke(prompt_total).content\n",
    "    return state\n",
    "\n",
    "def build_narrative_tpi(state: AnalysisState) -> AnalysisState:\n",
    "    # # if state.errors:\n",
    "    #     return state\n",
    "    #     \n",
    "    # prompt = f\"\"\"\n",
    "    # Describe la evolución de las cifras de ocupados con Tiempo Parcial Involuntario (TPI) en Chile utilizando estos datos que correspoden al trimestre Diciembre Enero Febrero del respectivo año (Enero corresponde al año indicado).\n",
    "    # TPI es un indicador asociado a subempleo por horas insuficientes. Son personas que trabajan jornada parcial pudiendo y queriendo tener una mayor jornada.\n",
    "    # Notar que lso datos de 2020 corresponden a inicios de 2020 y no reflejan el impacto de la pandemia.:\n",
    "    # {json.dumps(state.data_tpi, indent=2)}\n",
    "# \n",
    "    # Además de las cifras absolutas de TPI, puedes compararlas con al evolución de las cifras de personas empleadas en tu análisis: \n",
    "    # {json.dumps(state.data_ocupados, indent=2)}\n",
    "# \n",
    "    # \"\"\"\n",
    "    \n",
    "    state.narrativa_tpi = llm.invoke(prompt).content\n",
    "    return state\n",
    "\n",
    "\n",
    "# === Updated Graph ===\n",
    "builder = StateGraph(AnalysisState)\n",
    "\n",
    "# Add all nodes\n",
    "builder.add_node(\"fetch_data\", fetch_data)\n",
    "#builder.add_node(\"fetch_ocupados\", fetch_ocupados)\n",
    "#builder.add_node(\"fetch_tpi\", fetch_tpi)\n",
    "builder.add_node(\"build_narrativa_ocupacion\", build_narrativa_ocupacion)\n",
    "#builder.add_node(\"build_narrative_tpi\", build_narrative_tpi)\n",
    "\n",
    "# Define execution flow\n",
    "builder.add_edge(START, \"fetch_data\")\n",
    "builder.add_edge(\"fetch_data\", \"build_narrativa_ocupacion\")\n",
    "builder.add_edge(\"build_narrativa_ocupacion\", END)\n",
    "\n",
    "# builder.add_edge(START, \"fetch_ocupados\")\n",
    "# builder.add_edge(\"fetch_ocupados\", \"fetch_tpi\")\n",
    "# builder.add_edge(\"fetch_tpi\", \"build_narrative_ocupacion\")\n",
    "# builder.add_edge(\"build_narrative_ocupacion\", \"build_narrative_tpi\")\n",
    "# builder.add_edge(\"build_narrative_tpi\", END)\n",
    "\n",
    "# Compile graph\n",
    "graph = builder.compile()"
   ]
  },
  {
   "cell_type": "code",
   "execution_count": 143,
   "id": "52a510c2",
   "metadata": {},
   "outputs": [
    {
     "name": "stdout",
     "output_type": "stream",
     "text": [
      "data={'ocupados': {'by_variable': {'ocupados': {2011: 7621029.946048457, 2012: 7874073.702067525, 2013: 7993296.994482528, 2014: 8202889.793072612, 2015: 8263091.077420165, 2016: 8417124.962288717, 2017: 8485699.612245208, 2018: 8787079.741272915, 2019: 8907637.494962297, 2020: 9063373.737067282, 2021: 8167623.309441002, 2022: 8768644.66719999, 2023: 9030161.591211021, 2024: 9309608.094348965, 2025: 9396873.67711522}}, 'by_year': {2011: {'ocupados': 7621029.946048457}, 2012: {'ocupados': 7874073.702067525}, 2013: {'ocupados': 7993296.994482528}, 2014: {'ocupados': 8202889.793072612}, 2015: {'ocupados': 8263091.077420165}, 2016: {'ocupados': 8417124.962288717}, 2017: {'ocupados': 8485699.612245208}, 2018: {'ocupados': 8787079.741272915}, 2019: {'ocupados': 8907637.494962297}, 2020: {'ocupados': 9063373.737067282}, 2021: {'ocupados': 8167623.309441002}, 2022: {'ocupados': 8768644.66719999}, 2023: {'ocupados': 9030161.591211021}, 2024: {'ocupados': 9309608.094348965}, 2025: {'ocupados': 9396873.67711522}}}} narrativa_ocupacion='La evolución del número de personas ocupadas en Chile desde 2011 hasta 2025 revela un panorama laboral marcado por tres períodos distintos: el prepandemia, la pandemia y el postpandemia. \\n\\n### Periodo Prepandemia (2011-2020)\\nDurante el periodo de 2011 a 2019, el mercado laboral chileno mostró una tendencia creciente, con un incremento sostenido en el número de ocupados. Desde 7,621,030 en 2011, la cantidad de personas ocupadas alcanzó 9,063,374 en 2020, lo que representa un aumento de aproximadamente 19,0% en la última década. Este crecimiento fue constante, con notables incrementos en años como 2018 y 2019, donde el número de ocupados pasó de 8,787,080 a 8,907,637 en solo un año. Sin embargo, se percibe que hacia el final de este periodo, la tasa de crecimiento estaba empezando a estabilizarse.\\n\\n### Periodo de Pandemia (2021-2022)\\nLa llegada de la COVID-19 en marzo de 2020 tuvo un impacto drástico en el empleo en Chile. En 2021, el número de ocupados cayó significativamente a 8,167,623, marcando una disminución de aproximadamente 10% en comparación con el año anterior. Este descenso reflejó los efectos devastadores de la crisis sanitaria en el mercado laboral, provocando reducciones masivas de empleo. Sin embargo, en 2022, la situación comenzó a mostrar señales de recuperación, con un repunte en el número de ocupados, que alcanzaron los 8,768,645. Aunque esto marcó un aumento con respecto a 2021, todavía estaba un 3,2% por debajo del nivel prepandémico.\\n\\n### Periodo Postpandemia (2023-2025)\\nA partir de 2023, los datos muestran un proceso de recuperación más robusto. El número de ocupados en 2023 es de 9,030,162, una cifra que no solo supera los niveles de 2022, sino que se aproxima a los niveles prepandémicos de 2020. Se espera que esta tendencia continúe con proyecciones que estiman que en 2024 y 2025, el número de ocupados alcanzará 9,309,608 y 9,396,874, respectivamente. Esto refleja un claro signo de recuperación y posible estabilización del mercado laboral, sugiriendo que las lecciones aprendidas durante la crisis podrían estar impulsando una resiliencia en el empleo.\\n\\n### Conclusión\\nEl análisis de los datos de ocupación en Chile revela una historia de crecimiento sostenido, crisis abrupta y recuperación paulatina. A medida que el país navega a través de la etapa postpandemia, es crucial observar cómo se desarrollan estas tendencias y si se consolidan en un entorno laboral más dinámico e inclusivo. Las variaciones en los niveles de empleo deben ser acompañadas por políticas que fomenten la creación de empleo sostenible y la capacitación laboral, especialmente en sectores vulnerables que fueron más impactados por la crisis sanitaria.' narrativa_tpi='' errors=[]\n"
     ]
    }
   ],
   "source": [
    "from IPython.display import Markdown, display\n",
    "\n",
    "initial_state = AnalysisState().dict()\n",
    "raw_state = graph.invoke(initial_state, {\"debug\": True})\n",
    "final_state = AnalysisState(**raw_state)\n",
    "\n",
    "\n",
    "#display(Markdown(answer))\n",
    "print(final_state)"
   ]
  },
  {
   "cell_type": "code",
   "execution_count": 144,
   "id": "8fdb9c42",
   "metadata": {},
   "outputs": [
    {
     "data": {
      "text/markdown": [
       "La evolución del número de personas ocupadas en Chile desde 2011 hasta 2025 revela un panorama laboral marcado por tres períodos distintos: el prepandemia, la pandemia y el postpandemia. \n",
       "\n",
       "### Periodo Prepandemia (2011-2020)\n",
       "Durante el periodo de 2011 a 2019, el mercado laboral chileno mostró una tendencia creciente, con un incremento sostenido en el número de ocupados. Desde 7,621,030 en 2011, la cantidad de personas ocupadas alcanzó 9,063,374 en 2020, lo que representa un aumento de aproximadamente 19,0% en la última década. Este crecimiento fue constante, con notables incrementos en años como 2018 y 2019, donde el número de ocupados pasó de 8,787,080 a 8,907,637 en solo un año. Sin embargo, se percibe que hacia el final de este periodo, la tasa de crecimiento estaba empezando a estabilizarse.\n",
       "\n",
       "### Periodo de Pandemia (2021-2022)\n",
       "La llegada de la COVID-19 en marzo de 2020 tuvo un impacto drástico en el empleo en Chile. En 2021, el número de ocupados cayó significativamente a 8,167,623, marcando una disminución de aproximadamente 10% en comparación con el año anterior. Este descenso reflejó los efectos devastadores de la crisis sanitaria en el mercado laboral, provocando reducciones masivas de empleo. Sin embargo, en 2022, la situación comenzó a mostrar señales de recuperación, con un repunte en el número de ocupados, que alcanzaron los 8,768,645. Aunque esto marcó un aumento con respecto a 2021, todavía estaba un 3,2% por debajo del nivel prepandémico.\n",
       "\n",
       "### Periodo Postpandemia (2023-2025)\n",
       "A partir de 2023, los datos muestran un proceso de recuperación más robusto. El número de ocupados en 2023 es de 9,030,162, una cifra que no solo supera los niveles de 2022, sino que se aproxima a los niveles prepandémicos de 2020. Se espera que esta tendencia continúe con proyecciones que estiman que en 2024 y 2025, el número de ocupados alcanzará 9,309,608 y 9,396,874, respectivamente. Esto refleja un claro signo de recuperación y posible estabilización del mercado laboral, sugiriendo que las lecciones aprendidas durante la crisis podrían estar impulsando una resiliencia en el empleo.\n",
       "\n",
       "### Conclusión\n",
       "El análisis de los datos de ocupación en Chile revela una historia de crecimiento sostenido, crisis abrupta y recuperación paulatina. A medida que el país navega a través de la etapa postpandemia, es crucial observar cómo se desarrollan estas tendencias y si se consolidan en un entorno laboral más dinámico e inclusivo. Las variaciones en los niveles de empleo deben ser acompañadas por políticas que fomenten la creación de empleo sostenible y la capacitación laboral, especialmente en sectores vulnerables que fueron más impactados por la crisis sanitaria."
      ],
      "text/plain": [
       "<IPython.core.display.Markdown object>"
      ]
     },
     "metadata": {},
     "output_type": "display_data"
    }
   ],
   "source": [
    "display(Markdown(final_state.narrativa_ocupacion))\n"
   ]
  },
  {
   "cell_type": "code",
   "execution_count": 145,
   "id": "aa55c9ae",
   "metadata": {},
   "outputs": [
    {
     "name": "stdout",
     "output_type": "stream",
     "text": [
      "✅ Narrativas guardadas en 'narrativas.json'\n"
     ]
    }
   ],
   "source": [
    "# Guardar las narrativas generadas\n",
    "save_narrativas_to_file(final_state)\n",
    "\n",
    "print(\"✅ Narrativas guardadas en 'narrativas.json'\")"
   ]
  },
  {
   "cell_type": "raw",
   "id": "281c50e4",
   "metadata": {},
   "source": []
  },
  {
   "cell_type": "code",
   "execution_count": null,
   "id": "4c8c57e4",
   "metadata": {},
   "outputs": [],
   "source": []
  }
 ],
 "metadata": {
  "kernelspec": {
   "display_name": "Python 3 (ipykernel)",
   "language": "python",
   "name": "python3"
  },
  "language_info": {
   "codemirror_mode": {
    "name": "ipython",
    "version": 3
   },
   "file_extension": ".py",
   "mimetype": "text/x-python",
   "name": "python",
   "nbconvert_exporter": "python",
   "pygments_lexer": "ipython3",
   "version": "3.11.7"
  }
 },
 "nbformat": 4,
 "nbformat_minor": 5
}
